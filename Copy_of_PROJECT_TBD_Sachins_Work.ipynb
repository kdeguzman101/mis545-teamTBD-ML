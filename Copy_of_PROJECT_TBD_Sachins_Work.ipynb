{
 "cells": [
  {
   "cell_type": "code",
   "execution_count": 4,
   "metadata": {
    "id": "mHAPoJhsvWFD"
   },
   "outputs": [],
   "source": [
    "import pandas as pd\n",
    "import numpy as np\n",
    "from sklearn.model_selection import train_test_split\n",
    "from sklearn.preprocessing import StandardScaler, LabelEncoder\n",
    "from sklearn.linear_model import LogisticRegression\n",
    "from sklearn.tree import DecisionTreeClassifier\n",
    "from sklearn.ensemble import RandomForestClassifier\n",
    "\n",
    "from sklearn.metrics import (\n",
    "    accuracy_score, confusion_matrix, classification_report,\n",
    "    roc_curve, roc_auc_score, precision_recall_curve\n",
    ")\n",
    "import matplotlib.pyplot as plt\n",
    "import seaborn as sns"
   ]
  },
  {
   "cell_type": "code",
   "execution_count": null,
   "metadata": {
    "colab": {
     "base_uri": "https://localhost:8080/"
    },
    "id": "75IbmXRYWJxH",
    "outputId": "700876bd-2b05-4eae-f109-bac328e3b33f"
   },
   "outputs": [],
   "source": [
    "# from google.colab import drive\n",
    "# drive.mount('/content/drive')"
   ]
  },
  {
   "cell_type": "code",
   "execution_count": 5,
   "metadata": {
    "id": "777TvXBzDmkN"
   },
   "outputs": [],
   "source": [
    "# Specify file path\n",
    "# Use when in Google Colab\n",
    "# file_path = \"/content/drive/MyDrive/Datasets for Google Colab/student_success_enhanced.csv\"\n",
    "\n",
    "# Use when in local environment\n",
    "file_path = \"./student_success_enhanced.csv\"\n",
    "\n",
    "# Load dataset\n",
    "df = pd.read_csv(file_path)\n",
    "\n",
    "# Select features and target variable\n",
    "df['Graduated'] = (df['Graduation_Rate'] >= 0.6).astype(int)\n",
    "\n",
    "# Select features and target\n",
    "features = [\n",
    "    \"GPA\", \"SAT_Score\", \"ACT_Score\", \"Family_Size\", \"Support_Center_Utilization\",\n",
    "    \"Retention_Rate\", \"Study_Hours_Per_Week\", \"Work_Hours_Per_Week\"\n",
    "]\n",
    "numerical_columns = [\"GPA\", \"SAT_Score\", \"ACT_Score\", \"Family_Size\", \"Support_Center_Utilization\",\n",
    "                     \"Retention_Rate\", \"Graduation_Age\", \"Study_Hours_Per_Week\", \"Student_Loan_Amount\", \"Distance_From_Home\", \"Work_Hours_Per_Week\"]\n",
    "nominal_columns = [\"Marital_Status\", \"Life_Event\", \"Major\"]\n",
    "ordinal_columns = [\"Income_Level\", \"Institution_Type\", \"Campus_Engagement\", \"First_Gen_Student\", \"Enrollment_Status\"]\n",
    "target = \"Graduated\""
   ]
  },
  {
   "cell_type": "markdown",
   "metadata": {
    "id": "zNQ64O9UeA44"
   },
   "source": [
    "Displaying the split between \"Graduated\" 1 and 0"
   ]
  },
  {
   "cell_type": "code",
   "execution_count": 6,
   "metadata": {
    "colab": {
     "base_uri": "https://localhost:8080/",
     "height": 178
    },
    "id": "Pen3Eha1eAbP",
    "outputId": "059c1864-20c4-47c7-be7e-9a9ab2309dc0"
   },
   "outputs": [
    {
     "data": {
      "text/plain": [
       "Graduated\n",
       "1    7159\n",
       "0    2841\n",
       "Name: count, dtype: int64"
      ]
     },
     "execution_count": 6,
     "metadata": {},
     "output_type": "execute_result"
    }
   ],
   "source": [
    "df['Graduated'].value_counts()"
   ]
  },
  {
   "cell_type": "markdown",
   "metadata": {
    "id": "ghk4Q3l3YF1c"
   },
   "source": [
    "Display the dataset and information"
   ]
  },
  {
   "cell_type": "code",
   "execution_count": 7,
   "metadata": {
    "colab": {
     "base_uri": "https://localhost:8080/",
     "height": 541
    },
    "id": "1cNJw5_vYEwE",
    "outputId": "a2bb84ff-0b35-43c9-b2e3-461a01e6ecea"
   },
   "outputs": [
    {
     "data": {
      "text/html": [
       "<div>\n",
       "<style scoped>\n",
       "    .dataframe tbody tr th:only-of-type {\n",
       "        vertical-align: middle;\n",
       "    }\n",
       "\n",
       "    .dataframe tbody tr th {\n",
       "        vertical-align: top;\n",
       "    }\n",
       "\n",
       "    .dataframe thead th {\n",
       "        text-align: right;\n",
       "    }\n",
       "</style>\n",
       "<table border=\"1\" class=\"dataframe\">\n",
       "  <thead>\n",
       "    <tr style=\"text-align: right;\">\n",
       "      <th></th>\n",
       "      <th>Student_ID</th>\n",
       "      <th>GPA</th>\n",
       "      <th>SAT_Score</th>\n",
       "      <th>ACT_Score</th>\n",
       "      <th>Family_Size</th>\n",
       "      <th>Income_Level</th>\n",
       "      <th>Marital_Status</th>\n",
       "      <th>Support_Center_Utilization</th>\n",
       "      <th>Retention_Rate</th>\n",
       "      <th>Graduation_Rate</th>\n",
       "      <th>...</th>\n",
       "      <th>Graduation_Age</th>\n",
       "      <th>Major</th>\n",
       "      <th>Study_Hours_Per_Week</th>\n",
       "      <th>Student_Loan_Amount</th>\n",
       "      <th>Campus_Engagement</th>\n",
       "      <th>First_Gen_Student</th>\n",
       "      <th>Enrollment_Status</th>\n",
       "      <th>Distance_From_Home</th>\n",
       "      <th>Work_Hours_Per_Week</th>\n",
       "      <th>Graduated</th>\n",
       "    </tr>\n",
       "  </thead>\n",
       "  <tbody>\n",
       "    <tr>\n",
       "      <th>0</th>\n",
       "      <td>1</td>\n",
       "      <td>2.73</td>\n",
       "      <td>1174</td>\n",
       "      <td>26</td>\n",
       "      <td>1</td>\n",
       "      <td>High</td>\n",
       "      <td>Married</td>\n",
       "      <td>0.23</td>\n",
       "      <td>0.72</td>\n",
       "      <td>0.62</td>\n",
       "      <td>...</td>\n",
       "      <td>22.3</td>\n",
       "      <td>STEM</td>\n",
       "      <td>13.3</td>\n",
       "      <td>30968.51</td>\n",
       "      <td>Low</td>\n",
       "      <td>False</td>\n",
       "      <td>Full-Time</td>\n",
       "      <td>42.0</td>\n",
       "      <td>16.9</td>\n",
       "      <td>1</td>\n",
       "    </tr>\n",
       "    <tr>\n",
       "      <th>1</th>\n",
       "      <td>2</td>\n",
       "      <td>2.61</td>\n",
       "      <td>1079</td>\n",
       "      <td>24</td>\n",
       "      <td>4</td>\n",
       "      <td>High</td>\n",
       "      <td>Married</td>\n",
       "      <td>0.15</td>\n",
       "      <td>0.68</td>\n",
       "      <td>0.63</td>\n",
       "      <td>...</td>\n",
       "      <td>23.0</td>\n",
       "      <td>STEM</td>\n",
       "      <td>25.1</td>\n",
       "      <td>18679.95</td>\n",
       "      <td>Low</td>\n",
       "      <td>True</td>\n",
       "      <td>Full-Time</td>\n",
       "      <td>5.0</td>\n",
       "      <td>4.4</td>\n",
       "      <td>1</td>\n",
       "    </tr>\n",
       "    <tr>\n",
       "      <th>2</th>\n",
       "      <td>3</td>\n",
       "      <td>2.81</td>\n",
       "      <td>1197</td>\n",
       "      <td>26</td>\n",
       "      <td>4</td>\n",
       "      <td>Low</td>\n",
       "      <td>Married</td>\n",
       "      <td>0.47</td>\n",
       "      <td>0.61</td>\n",
       "      <td>0.58</td>\n",
       "      <td>...</td>\n",
       "      <td>22.4</td>\n",
       "      <td>Education</td>\n",
       "      <td>15.1</td>\n",
       "      <td>39004.41</td>\n",
       "      <td>Low</td>\n",
       "      <td>False</td>\n",
       "      <td>Full-Time</td>\n",
       "      <td>62.9</td>\n",
       "      <td>9.5</td>\n",
       "      <td>0</td>\n",
       "    </tr>\n",
       "    <tr>\n",
       "      <th>3</th>\n",
       "      <td>4</td>\n",
       "      <td>3.35</td>\n",
       "      <td>1328</td>\n",
       "      <td>29</td>\n",
       "      <td>1</td>\n",
       "      <td>High</td>\n",
       "      <td>Divorced</td>\n",
       "      <td>0.00</td>\n",
       "      <td>0.90</td>\n",
       "      <td>0.90</td>\n",
       "      <td>...</td>\n",
       "      <td>22.5</td>\n",
       "      <td>STEM</td>\n",
       "      <td>13.1</td>\n",
       "      <td>15563.23</td>\n",
       "      <td>Low</td>\n",
       "      <td>False</td>\n",
       "      <td>Full-Time</td>\n",
       "      <td>93.1</td>\n",
       "      <td>4.2</td>\n",
       "      <td>1</td>\n",
       "    </tr>\n",
       "    <tr>\n",
       "      <th>4</th>\n",
       "      <td>5</td>\n",
       "      <td>3.02</td>\n",
       "      <td>1064</td>\n",
       "      <td>23</td>\n",
       "      <td>1</td>\n",
       "      <td>Middle</td>\n",
       "      <td>Single</td>\n",
       "      <td>0.22</td>\n",
       "      <td>0.61</td>\n",
       "      <td>0.66</td>\n",
       "      <td>...</td>\n",
       "      <td>22.9</td>\n",
       "      <td>Arts</td>\n",
       "      <td>21.8</td>\n",
       "      <td>6533.81</td>\n",
       "      <td>Low</td>\n",
       "      <td>False</td>\n",
       "      <td>Full-Time</td>\n",
       "      <td>63.1</td>\n",
       "      <td>15.5</td>\n",
       "      <td>1</td>\n",
       "    </tr>\n",
       "    <tr>\n",
       "      <th>5</th>\n",
       "      <td>6</td>\n",
       "      <td>2.43</td>\n",
       "      <td>1064</td>\n",
       "      <td>23</td>\n",
       "      <td>1</td>\n",
       "      <td>Middle</td>\n",
       "      <td>Divorced</td>\n",
       "      <td>0.26</td>\n",
       "      <td>0.54</td>\n",
       "      <td>0.58</td>\n",
       "      <td>...</td>\n",
       "      <td>22.5</td>\n",
       "      <td>STEM</td>\n",
       "      <td>13.0</td>\n",
       "      <td>28718.06</td>\n",
       "      <td>Medium</td>\n",
       "      <td>False</td>\n",
       "      <td>Full-Time</td>\n",
       "      <td>64.8</td>\n",
       "      <td>14.7</td>\n",
       "      <td>0</td>\n",
       "    </tr>\n",
       "    <tr>\n",
       "      <th>6</th>\n",
       "      <td>7</td>\n",
       "      <td>3.64</td>\n",
       "      <td>1336</td>\n",
       "      <td>30</td>\n",
       "      <td>4</td>\n",
       "      <td>Low</td>\n",
       "      <td>Single</td>\n",
       "      <td>0.28</td>\n",
       "      <td>0.71</td>\n",
       "      <td>0.65</td>\n",
       "      <td>...</td>\n",
       "      <td>22.0</td>\n",
       "      <td>Arts</td>\n",
       "      <td>17.1</td>\n",
       "      <td>21571.52</td>\n",
       "      <td>Low</td>\n",
       "      <td>False</td>\n",
       "      <td>Full-Time</td>\n",
       "      <td>65.2</td>\n",
       "      <td>8.7</td>\n",
       "      <td>1</td>\n",
       "    </tr>\n",
       "    <tr>\n",
       "      <th>7</th>\n",
       "      <td>8</td>\n",
       "      <td>2.80</td>\n",
       "      <td>1215</td>\n",
       "      <td>27</td>\n",
       "      <td>1</td>\n",
       "      <td>Low</td>\n",
       "      <td>Single</td>\n",
       "      <td>0.36</td>\n",
       "      <td>0.86</td>\n",
       "      <td>0.84</td>\n",
       "      <td>...</td>\n",
       "      <td>23.0</td>\n",
       "      <td>Health Sciences</td>\n",
       "      <td>15.3</td>\n",
       "      <td>8249.42</td>\n",
       "      <td>High</td>\n",
       "      <td>False</td>\n",
       "      <td>Full-Time</td>\n",
       "      <td>95.8</td>\n",
       "      <td>8.9</td>\n",
       "      <td>1</td>\n",
       "    </tr>\n",
       "    <tr>\n",
       "      <th>8</th>\n",
       "      <td>9</td>\n",
       "      <td>2.32</td>\n",
       "      <td>1029</td>\n",
       "      <td>23</td>\n",
       "      <td>1</td>\n",
       "      <td>Middle</td>\n",
       "      <td>Single</td>\n",
       "      <td>0.56</td>\n",
       "      <td>0.56</td>\n",
       "      <td>0.56</td>\n",
       "      <td>...</td>\n",
       "      <td>23.1</td>\n",
       "      <td>Arts</td>\n",
       "      <td>15.7</td>\n",
       "      <td>19196.86</td>\n",
       "      <td>Low</td>\n",
       "      <td>False</td>\n",
       "      <td>Part-Time</td>\n",
       "      <td>65.8</td>\n",
       "      <td>8.3</td>\n",
       "      <td>0</td>\n",
       "    </tr>\n",
       "    <tr>\n",
       "      <th>9</th>\n",
       "      <td>10</td>\n",
       "      <td>3.20</td>\n",
       "      <td>1181</td>\n",
       "      <td>26</td>\n",
       "      <td>1</td>\n",
       "      <td>Middle</td>\n",
       "      <td>Married</td>\n",
       "      <td>0.37</td>\n",
       "      <td>1.00</td>\n",
       "      <td>0.99</td>\n",
       "      <td>...</td>\n",
       "      <td>22.0</td>\n",
       "      <td>Business</td>\n",
       "      <td>3.1</td>\n",
       "      <td>16445.08</td>\n",
       "      <td>Medium</td>\n",
       "      <td>False</td>\n",
       "      <td>Full-Time</td>\n",
       "      <td>90.8</td>\n",
       "      <td>14.4</td>\n",
       "      <td>1</td>\n",
       "    </tr>\n",
       "    <tr>\n",
       "      <th>10</th>\n",
       "      <td>11</td>\n",
       "      <td>2.85</td>\n",
       "      <td>1030</td>\n",
       "      <td>23</td>\n",
       "      <td>4</td>\n",
       "      <td>Middle</td>\n",
       "      <td>Single</td>\n",
       "      <td>0.37</td>\n",
       "      <td>0.79</td>\n",
       "      <td>0.78</td>\n",
       "      <td>...</td>\n",
       "      <td>22.0</td>\n",
       "      <td>Arts</td>\n",
       "      <td>17.2</td>\n",
       "      <td>34594.83</td>\n",
       "      <td>Low</td>\n",
       "      <td>False</td>\n",
       "      <td>Full-Time</td>\n",
       "      <td>80.1</td>\n",
       "      <td>15.4</td>\n",
       "      <td>1</td>\n",
       "    </tr>\n",
       "    <tr>\n",
       "      <th>11</th>\n",
       "      <td>12</td>\n",
       "      <td>2.83</td>\n",
       "      <td>1030</td>\n",
       "      <td>23</td>\n",
       "      <td>2</td>\n",
       "      <td>Middle</td>\n",
       "      <td>Single</td>\n",
       "      <td>0.42</td>\n",
       "      <td>0.75</td>\n",
       "      <td>0.67</td>\n",
       "      <td>...</td>\n",
       "      <td>23.5</td>\n",
       "      <td>STEM</td>\n",
       "      <td>19.2</td>\n",
       "      <td>27574.51</td>\n",
       "      <td>Low</td>\n",
       "      <td>False</td>\n",
       "      <td>Full-Time</td>\n",
       "      <td>0.0</td>\n",
       "      <td>6.1</td>\n",
       "      <td>1</td>\n",
       "    </tr>\n",
       "    <tr>\n",
       "      <th>12</th>\n",
       "      <td>13</td>\n",
       "      <td>2.45</td>\n",
       "      <td>1136</td>\n",
       "      <td>25</td>\n",
       "      <td>2</td>\n",
       "      <td>Low</td>\n",
       "      <td>Single</td>\n",
       "      <td>0.57</td>\n",
       "      <td>0.55</td>\n",
       "      <td>0.50</td>\n",
       "      <td>...</td>\n",
       "      <td>22.6</td>\n",
       "      <td>Health Sciences</td>\n",
       "      <td>19.2</td>\n",
       "      <td>12766.71</td>\n",
       "      <td>Low</td>\n",
       "      <td>True</td>\n",
       "      <td>Full-Time</td>\n",
       "      <td>59.7</td>\n",
       "      <td>22.6</td>\n",
       "      <td>0</td>\n",
       "    </tr>\n",
       "  </tbody>\n",
       "</table>\n",
       "<p>13 rows × 22 columns</p>\n",
       "</div>"
      ],
      "text/plain": [
       "    Student_ID   GPA  SAT_Score  ACT_Score  Family_Size Income_Level  \\\n",
       "0            1  2.73       1174         26            1         High   \n",
       "1            2  2.61       1079         24            4         High   \n",
       "2            3  2.81       1197         26            4          Low   \n",
       "3            4  3.35       1328         29            1         High   \n",
       "4            5  3.02       1064         23            1       Middle   \n",
       "5            6  2.43       1064         23            1       Middle   \n",
       "6            7  3.64       1336         30            4          Low   \n",
       "7            8  2.80       1215         27            1          Low   \n",
       "8            9  2.32       1029         23            1       Middle   \n",
       "9           10  3.20       1181         26            1       Middle   \n",
       "10          11  2.85       1030         23            4       Middle   \n",
       "11          12  2.83       1030         23            2       Middle   \n",
       "12          13  2.45       1136         25            2          Low   \n",
       "\n",
       "   Marital_Status  Support_Center_Utilization  Retention_Rate  \\\n",
       "0         Married                        0.23            0.72   \n",
       "1         Married                        0.15            0.68   \n",
       "2         Married                        0.47            0.61   \n",
       "3        Divorced                        0.00            0.90   \n",
       "4          Single                        0.22            0.61   \n",
       "5        Divorced                        0.26            0.54   \n",
       "6          Single                        0.28            0.71   \n",
       "7          Single                        0.36            0.86   \n",
       "8          Single                        0.56            0.56   \n",
       "9         Married                        0.37            1.00   \n",
       "10         Single                        0.37            0.79   \n",
       "11         Single                        0.42            0.75   \n",
       "12         Single                        0.57            0.55   \n",
       "\n",
       "    Graduation_Rate  ... Graduation_Age            Major  \\\n",
       "0              0.62  ...           22.3             STEM   \n",
       "1              0.63  ...           23.0             STEM   \n",
       "2              0.58  ...           22.4        Education   \n",
       "3              0.90  ...           22.5             STEM   \n",
       "4              0.66  ...           22.9             Arts   \n",
       "5              0.58  ...           22.5             STEM   \n",
       "6              0.65  ...           22.0             Arts   \n",
       "7              0.84  ...           23.0  Health Sciences   \n",
       "8              0.56  ...           23.1             Arts   \n",
       "9              0.99  ...           22.0         Business   \n",
       "10             0.78  ...           22.0             Arts   \n",
       "11             0.67  ...           23.5             STEM   \n",
       "12             0.50  ...           22.6  Health Sciences   \n",
       "\n",
       "    Study_Hours_Per_Week Student_Loan_Amount  Campus_Engagement  \\\n",
       "0                   13.3            30968.51                Low   \n",
       "1                   25.1            18679.95                Low   \n",
       "2                   15.1            39004.41                Low   \n",
       "3                   13.1            15563.23                Low   \n",
       "4                   21.8             6533.81                Low   \n",
       "5                   13.0            28718.06             Medium   \n",
       "6                   17.1            21571.52                Low   \n",
       "7                   15.3             8249.42               High   \n",
       "8                   15.7            19196.86                Low   \n",
       "9                    3.1            16445.08             Medium   \n",
       "10                  17.2            34594.83                Low   \n",
       "11                  19.2            27574.51                Low   \n",
       "12                  19.2            12766.71                Low   \n",
       "\n",
       "    First_Gen_Student Enrollment_Status  Distance_From_Home  \\\n",
       "0               False         Full-Time                42.0   \n",
       "1                True         Full-Time                 5.0   \n",
       "2               False         Full-Time                62.9   \n",
       "3               False         Full-Time                93.1   \n",
       "4               False         Full-Time                63.1   \n",
       "5               False         Full-Time                64.8   \n",
       "6               False         Full-Time                65.2   \n",
       "7               False         Full-Time                95.8   \n",
       "8               False         Part-Time                65.8   \n",
       "9               False         Full-Time                90.8   \n",
       "10              False         Full-Time                80.1   \n",
       "11              False         Full-Time                 0.0   \n",
       "12               True         Full-Time                59.7   \n",
       "\n",
       "   Work_Hours_Per_Week  Graduated  \n",
       "0                 16.9          1  \n",
       "1                  4.4          1  \n",
       "2                  9.5          0  \n",
       "3                  4.2          1  \n",
       "4                 15.5          1  \n",
       "5                 14.7          0  \n",
       "6                  8.7          1  \n",
       "7                  8.9          1  \n",
       "8                  8.3          0  \n",
       "9                 14.4          1  \n",
       "10                15.4          1  \n",
       "11                 6.1          1  \n",
       "12                22.6          0  \n",
       "\n",
       "[13 rows x 22 columns]"
      ]
     },
     "execution_count": 7,
     "metadata": {},
     "output_type": "execute_result"
    }
   ],
   "source": [
    "# Show the first couple rows of the dataframe\n",
    "df.head(13)"
   ]
  },
  {
   "cell_type": "code",
   "execution_count": null,
   "metadata": {
    "colab": {
     "base_uri": "https://localhost:8080/"
    },
    "id": "0qeC05vTo6qY",
    "outputId": "9adc209f-c4e9-4706-a527-df999721e056"
   },
   "outputs": [],
   "source": [
    "# Display the unique values within a specific column\n",
    "df['Life_Event'].unique()\n",
    "# df['Income_Level'].value_counts()"
   ]
  },
  {
   "cell_type": "code",
   "execution_count": null,
   "metadata": {
    "colab": {
     "base_uri": "https://localhost:8080/",
     "height": 335
    },
    "id": "LFH2zTkBbruq",
    "outputId": "bbcf8e2a-bc28-45cd-e84f-a73938bba620"
   },
   "outputs": [],
   "source": [
    "# Describe the different values of a specific column\n",
    "df['Family_Size'].describe()"
   ]
  },
  {
   "cell_type": "code",
   "execution_count": null,
   "metadata": {},
   "outputs": [],
   "source": [
    "# Replacing missing values in the Life_Event column with 'None'\n",
    "df['Life_Event'] = df['Life_Event'].fillna('None')\n",
    "# Display the unique values within a specific column\n",
    "df['Life_Event'].unique()"
   ]
  },
  {
   "cell_type": "code",
   "execution_count": 9,
   "metadata": {},
   "outputs": [
    {
     "name": "stdout",
     "output_type": "stream",
     "text": [
      "Number of training samples: 6700\n",
      "Number of testing samples: 3300\n"
     ]
    }
   ],
   "source": [
    "# Prepare data\n",
    "X = df.drop(columns=[\"Student_ID\", \"Graduation_Rate\", \"Graduated\"])\n",
    "y = df[\"Graduated\"]\n",
    "\n",
    "# Train-test split\n",
    "X_train, X_test, y_train, y_test = train_test_split(X, y, test_size=0.33, random_state=42)\n",
    "print(f\"Number of training samples: {X_train.shape[0]}\")\n",
    "print(f\"Number of testing samples: {X_test.shape[0]}\")"
   ]
  },
  {
   "cell_type": "code",
   "execution_count": null,
   "metadata": {
    "colab": {
     "base_uri": "https://localhost:8080/"
    },
    "id": "bANKBgs6Dpdv",
    "outputId": "d404e55e-85db-40ad-843e-d2d21de5e8b9"
   },
   "outputs": [],
   "source": [
    "# One-hot encode categorical (nominal) variables\n",
    "X_train = pd.get_dummies(X_train, columns=nominal_columns, drop_first=True)\n",
    "\n",
    "# Apply the same encoding to the test set\n",
    "X_test = pd.get_dummies(X_test, columns=nominal_columns, drop_first=True)\n",
    "\n",
    "# Handle categorical (ordinal) columns\n",
    "le = LabelEncoder()\n",
    "for col in ordinal_columns:\n",
    "    X_train[col] = le.fit_transform(X_train[col])\n",
    "    X_test[col] = le.transform(X_test[col])\n",
    "\n",
    "# Scale numerical features after encoding\n",
    "scaler = StandardScaler()\n",
    "\n",
    "# Fit and transform on the training data\n",
    "X_train_scaled = scaler.fit_transform(X_train[numerical_columns])\n",
    "\n",
    "# Transform the test data using the same scaler\n",
    "X_test_scaled = scaler.transform(X_test[numerical_columns])\n",
    "\n",
    "# Replace the scaled numerical columns back into the original dataframes\n",
    "X_train[numerical_columns] = X_train_scaled\n",
    "X_test[numerical_columns] = X_test_scaled"
   ]
  },
  {
   "cell_type": "code",
   "execution_count": null,
   "metadata": {},
   "outputs": [],
   "source": [
    "print(X_train.shape)\n",
    "print()\n",
    "print(X_test.shape)"
   ]
  },
  {
   "cell_type": "code",
   "execution_count": null,
   "metadata": {
    "colab": {
     "base_uri": "https://localhost:8080/",
     "height": 273
    },
    "id": "a51a44TRZKUt",
    "outputId": "7ab762de-a5fe-4181-9a4f-c545afed862f"
   },
   "outputs": [],
   "source": [
    "X_train.head()"
   ]
  },
  {
   "cell_type": "code",
   "execution_count": null,
   "metadata": {
    "colab": {
     "base_uri": "https://localhost:8080/"
    },
    "id": "MlF6duATyZYf",
    "outputId": "0ee8ed1f-5582-4912-9d18-7311e95d085b"
   },
   "outputs": [],
   "source": [
    "print(X_train.head())"
   ]
  },
  {
   "cell_type": "markdown",
   "metadata": {
    "id": "lo3y770LnU1w"
   },
   "source": [
    "# LOGISTIC REGRESSION"
   ]
  },
  {
   "cell_type": "code",
   "execution_count": null,
   "metadata": {
    "id": "WYw2HtIHA-fv"
   },
   "outputs": [],
   "source": [
    "# Scale the features\n",
    "scaler = StandardScaler()\n",
    "X_train_scaled = scaler.fit_transform(X_train)\n",
    "X_test_scaled = scaler.transform(X_test)\n",
    "\n",
    "# Train logistic regression model\n",
    "model = LogisticRegression(max_iter=2000, solver='saga')\n",
    "model.fit(X_train_scaled, y_train)\n",
    "\n",
    "# Make predictions\n",
    "y_train_pred = model.predict(X_train_scaled)\n",
    "y_test_pred = model.predict(X_test_scaled)\n",
    "y_test_proba = model.predict_proba(X_test_scaled)[:, 1]"
   ]
  },
  {
   "cell_type": "code",
   "execution_count": null,
   "metadata": {
    "colab": {
     "base_uri": "https://localhost:8080/"
    },
    "id": "ZIbNqNMdDtwA",
    "outputId": "548ad40a-0dfe-4e3f-ef97-3e4ecc9ef027"
   },
   "outputs": [],
   "source": [
    "# Evaluate model\n",
    "train_accuracy = accuracy_score(y_train, y_train_pred)\n",
    "test_accuracy = accuracy_score(y_test, y_test_pred)\n",
    "conf_matrix = confusion_matrix(y_test, y_test_pred)\n",
    "report = classification_report(y_test, y_test_pred)\n",
    "\n",
    "# Print results\n",
    "print(\"Training Accuracy:\", train_accuracy)\n",
    "print(\"Test Accuracy:\", test_accuracy)\n",
    "print(\"Confusion Matrix:\\n\", conf_matrix)\n",
    "print(\"Classification Report:\\n\", report)\n"
   ]
  },
  {
   "cell_type": "code",
   "execution_count": null,
   "metadata": {
    "colab": {
     "base_uri": "https://localhost:8080/"
    },
    "id": "XxAcddhHKyjI",
    "outputId": "5de1d77c-9b82-418f-8191-9aedf2f8ab7b"
   },
   "outputs": [],
   "source": [
    "print(f\"Predicted Class Distribution: {np.bincount(y_test_pred)}\")"
   ]
  },
  {
   "cell_type": "code",
   "execution_count": null,
   "metadata": {
    "colab": {
     "base_uri": "https://localhost:8080/",
     "height": 1000
    },
    "id": "CJqIsQTcJ5bA",
    "outputId": "fafe7b91-02c9-4b44-bdaf-6f65826b849e"
   },
   "outputs": [],
   "source": [
    "# Visualization 1: Confusion Matrix Heatmap\n",
    "plt.figure(figsize=(6, 5))\n",
    "sns.heatmap(conf_matrix, annot=True, fmt='d', cmap='Blues', xticklabels=[\"Not Graduated\", \"Graduated\"], yticklabels=[\"Not Graduated\", \"Graduated\"])\n",
    "plt.title(\"Confusion Matrix\")\n",
    "plt.xlabel(\"Predicted\")\n",
    "plt.ylabel(\"Actual\")\n",
    "plt.show()\n",
    "\n",
    "# Visualization 2: ROC Curve\n",
    "fpr, tpr, thresholds = roc_curve(y_test, y_test_proba)\n",
    "roc_auc = roc_auc_score(y_test, y_test_proba)\n",
    "\n",
    "plt.figure(figsize=(6, 5))\n",
    "plt.plot(fpr, tpr, label=f\"ROC Curve (AUC = {roc_auc:.2f})\", color='blue')\n",
    "plt.plot([0, 1], [0, 1], 'k--', label=\"Random Guess\")\n",
    "plt.title(\"Receiver Operating Characteristic (ROC) Curve\")\n",
    "plt.xlabel(\"False Positive Rate\")\n",
    "plt.ylabel(\"True Positive Rate\")\n",
    "plt.legend(loc=\"lower right\")\n",
    "plt.show()\n",
    "\n",
    "# Visualization 3: Precision-Recall Curve (with zero_division parameter)\n",
    "precision, recall, thresholds = precision_recall_curve(y_test, y_test_proba)\n",
    "\n",
    "plt.figure(figsize=(6, 5))\n",
    "plt.plot(recall, precision, label=\"Precision-Recall Curve\", color='green')\n",
    "plt.title(\"Precision-Recall Curve\")\n",
    "plt.xlabel(\"Recall\")\n",
    "plt.ylabel(\"Precision\")\n",
    "plt.legend(loc=\"lower left\")\n",
    "plt.show()"
   ]
  },
  {
   "cell_type": "markdown",
   "metadata": {
    "id": "JcqSANkRnLWF"
   },
   "source": [
    "# DECISION FOREST\n"
   ]
  },
  {
   "cell_type": "code",
   "execution_count": null,
   "metadata": {
    "colab": {
     "base_uri": "https://localhost:8080/",
     "height": 80
    },
    "id": "396Qtmh1L-yI",
    "outputId": "86a5f40a-af23-40ef-889e-88c28dc45085"
   },
   "outputs": [],
   "source": [
    "model = DecisionTreeClassifier(random_state=42,max_depth=4)\n",
    "model.fit(X_train_scaled, y_train)"
   ]
  },
  {
   "cell_type": "code",
   "execution_count": null,
   "metadata": {
    "colab": {
     "base_uri": "https://localhost:8080/",
     "height": 1000
    },
    "id": "K44t8lhNM3mA",
    "outputId": "769a1ccd-344e-419e-a6de-0b329a940229"
   },
   "outputs": [],
   "source": [
    "from sklearn.tree import plot_tree\n",
    "\n",
    "# Plot the trained decision tree\n",
    "plt.figure(figsize=(40, 30))\n",
    "plot_tree(model, filled=True, feature_names=X.columns, class_names=[\"Not Graduated\", \"Graduated\"], rounded=True, fontsize=12)\n",
    "plt.title(\"Decision Tree Visualization\")\n",
    "plt.show()"
   ]
  },
  {
   "cell_type": "code",
   "execution_count": null,
   "metadata": {
    "colab": {
     "base_uri": "https://localhost:8080/"
    },
    "id": "9a1_1sYnMHyw",
    "outputId": "41c9477d-cfe7-4bbc-e86d-e18897f6f769"
   },
   "outputs": [],
   "source": [
    "# Make predictions\n",
    "y_train_pred = model.predict(X_train_scaled)\n",
    "y_test_pred = model.predict(X_test_scaled)\n",
    "y_test_proba = model.predict_proba(X_test_scaled)[:, 1]\n",
    "\n",
    "# Evaluate model\n",
    "train_accuracy = accuracy_score(y_train, y_train_pred)\n",
    "test_accuracy = accuracy_score(y_test, y_test_pred)\n",
    "conf_matrix = confusion_matrix(y_test, y_test_pred)\n",
    "report = classification_report(y_test, y_test_pred)\n",
    "\n",
    "print(\"Training Accuracy:\", train_accuracy)\n",
    "print(\"Test Accuracy:\", test_accuracy)\n",
    "print(\"Confusion Matrix:\\n\", conf_matrix)\n",
    "print(\"Classification Report:\\n\", report)\n",
    "print(f\"Predicted Class Distribution: {np.bincount(y_test_pred)}\")\n"
   ]
  },
  {
   "cell_type": "code",
   "execution_count": null,
   "metadata": {
    "colab": {
     "base_uri": "https://localhost:8080/",
     "height": 1000
    },
    "id": "PgCjRTiCMLcy",
    "outputId": "fb13f258-e395-4d82-a435-341fc3141c93"
   },
   "outputs": [],
   "source": [
    "# Visualization 1: Confusion Matrix Heatmap\n",
    "plt.figure(figsize=(6, 5))\n",
    "sns.heatmap(conf_matrix, annot=True, fmt='d', cmap='Blues', xticklabels=[\"Not Graduated\", \"Graduated\"], yticklabels=[\"Not Graduated\", \"Graduated\"])\n",
    "plt.title(\"Confusion Matrix\")\n",
    "plt.xlabel(\"Predicted\")\n",
    "plt.ylabel(\"Actual\")\n",
    "plt.show()\n",
    "\n",
    "# Visualization 2: ROC Curve\n",
    "fpr, tpr, thresholds = roc_curve(y_test, y_test_proba)\n",
    "roc_auc = roc_auc_score(y_test, y_test_proba)\n",
    "\n",
    "plt.figure(figsize=(6, 5))\n",
    "plt.plot(fpr, tpr, label=f\"ROC Curve (AUC = {roc_auc:.2f})\", color='blue')\n",
    "plt.plot([0, 1], [0, 1], 'k--', label=\"Random Guess\")\n",
    "plt.title(\"Receiver Operating Characteristic (ROC) Curve\")\n",
    "plt.xlabel(\"False Positive Rate\")\n",
    "plt.ylabel(\"True Positive Rate\")\n",
    "plt.legend(loc=\"lower right\")\n",
    "plt.show()\n",
    "\n",
    "# Visualization 3: Precision-Recall Curve (with zero_division parameter)\n",
    "precision, recall, thresholds = precision_recall_curve(y_test, y_test_proba)\n",
    "\n",
    "plt.figure(figsize=(6, 5))\n",
    "plt.plot(recall, precision, label=\"Precision-Recall Curve\", color='green')\n",
    "plt.title(\"Precision-Recall Curve\")\n",
    "plt.xlabel(\"Recall\")\n",
    "plt.ylabel(\"Precision\")\n",
    "plt.legend(loc=\"lower left\")\n",
    "plt.show()"
   ]
  },
  {
   "cell_type": "markdown",
   "metadata": {
    "id": "pIypyEQsncQs"
   },
   "source": [
    "# RANDOM FOREST"
   ]
  },
  {
   "cell_type": "code",
   "execution_count": null,
   "metadata": {
    "id": "dkKsLWSCmP9I"
   },
   "outputs": [],
   "source": [
    "rf_model = RandomForestClassifier(random_state=42, n_estimators=100)\n",
    "rf_model.fit(X_train_scaled, y_train)\n",
    "\n",
    "# Predictions\n",
    "y_pred = rf_model.predict(X_test_scaled)"
   ]
  },
  {
   "cell_type": "code",
   "execution_count": null,
   "metadata": {
    "colab": {
     "base_uri": "https://localhost:8080/"
    },
    "id": "KAr-z8Y0mSm9",
    "outputId": "c279ba50-fc96-4f02-bd3f-09a3f9147280"
   },
   "outputs": [],
   "source": [
    "accuracy = accuracy_score(y_test, y_pred)\n",
    "print(f\"Accuracy: {accuracy * 100:.2f}%\")\n",
    "conf_matrix = confusion_matrix(y_test, y_pred)\n",
    "\n",
    "# Classification Report\n",
    "print(\"Classification Report:\")\n",
    "print(classification_report(y_test, y_pred))"
   ]
  },
  {
   "cell_type": "code",
   "execution_count": null,
   "metadata": {
    "colab": {
     "base_uri": "https://localhost:8080/",
     "height": 487
    },
    "id": "ZQ8pcjt2maek",
    "outputId": "233f85fd-5d9d-42f8-f098-f0541b80c5cf"
   },
   "outputs": [],
   "source": [
    "plt.figure(figsize=(6, 5))\n",
    "sns.heatmap(conf_matrix, annot=True, fmt='d', cmap='Blues', xticklabels=[\"Not Graduated\", \"Graduated\"], yticklabels=[\"Not Graduated\", \"Graduated\"])\n",
    "plt.title(\"Confusion Matrix - Random Forest\")\n",
    "plt.xlabel(\"Predicted\")\n",
    "plt.ylabel(\"Actual\")\n",
    "plt.show()"
   ]
  },
  {
   "cell_type": "code",
   "execution_count": null,
   "metadata": {
    "colab": {
     "base_uri": "https://localhost:8080/",
     "height": 1000
    },
    "id": "ZtYHyenmsd1G",
    "outputId": "c14142d0-2541-4d1d-d0c2-f5ccb8190710"
   },
   "outputs": [],
   "source": [
    "from sklearn.ensemble import AdaBoostClassifier\n",
    "from sklearn.tree import DecisionTreeClassifier\n",
    "from sklearn.model_selection import train_test_split\n",
    "from sklearn.metrics import accuracy_score, confusion_matrix, classification_report, roc_curve, roc_auc_score, precision_recall_curve\n",
    "import plotly.graph_objects as go\n",
    "import plotly.figure_factory as ff\n",
    "import seaborn as sns\n",
    "import matplotlib.pyplot as plt\n",
    "import numpy as np\n",
    "\n",
    "# Load your dataset (assuming df is your DataFrame and you've already preprocessed it)\n",
    "# Assuming your target is 'Graduation_Rate' (converted to 0 or 1 for classification)\n",
    "\n",
    "'''\n",
    "# Prepare features and target\n",
    "X = df.drop(columns=['Student_ID', 'Graduation_Rate'])  # Dropping ID and target column\n",
    "y = df['Graduation_Rate'].apply(lambda x: 1 if x >= 0.5 else 0)  # Binary target (0 or 1)\n",
    "\n",
    "# Split the data into training and testing sets\n",
    "X_train, X_test, y_train, y_test = train_test_split(X, y, test_size=0.3, random_state=42)\n",
    "'''\n",
    "\n",
    "# Initialize the base model (Decision Tree as the weak learner for AdaBoost)\n",
    "base_model = DecisionTreeClassifier(max_depth=1)\n",
    "\n",
    "# Initialize AdaBoost with the base model\n",
    "ada_boost = AdaBoostClassifier(estimator=base_model, n_estimators=50, random_state=42)\n",
    "\n",
    "# Fit the AdaBoost model\n",
    "ada_boost.fit(X_train, y_train)\n",
    "\n",
    "# Predict on test data\n",
    "y_pred = ada_boost.predict(X_test)\n",
    "y_pred_proba = ada_boost.predict_proba(X_test)[:, 1]\n",
    "\n",
    "# Model Evaluation\n",
    "\n",
    "# Accuracy\n",
    "accuracy = accuracy_score(y_test, y_pred)\n",
    "print(f\"Accuracy: {accuracy:.4f}\")\n",
    "\n",
    "# Confusion Matrix\n",
    "conf_matrix = confusion_matrix(y_test, y_pred)\n",
    "print(f\"Confusion Matrix:\\n{conf_matrix}\")\n",
    "\n",
    "# Classification Report\n",
    "print(f\"Classification Report:\\n{classification_report(y_test, y_pred)}\")\n",
    "\n",
    "# ROC Curve\n",
    "fpr, tpr, _ = roc_curve(y_test, y_pred_proba)\n",
    "roc_auc = roc_auc_score(y_test, y_pred_proba)\n",
    "\n",
    "# Plot ROC curve using Plotly\n",
    "fig_roc = go.Figure()\n",
    "\n",
    "fig_roc.add_trace(go.Scatter(\n",
    "    x=fpr,\n",
    "    y=tpr,\n",
    "    mode='lines',\n",
    "    name=f'ROC Curve (AUC = {roc_auc:.2f})',\n",
    "    line=dict(color='#FF6347', width=3)  # Tomato red color\n",
    "))\n",
    "\n",
    "fig_roc.add_trace(go.Scatter(\n",
    "    x=[0, 1],\n",
    "    y=[0, 1],\n",
    "    mode='lines',\n",
    "    name=\"Random Guess\",\n",
    "    line=dict(color='#D3D3D3', dash='dash', width=2)  # Light gray for random guess\n",
    "))\n",
    "\n",
    "fig_roc.update_layout(\n",
    "    title=\"Receiver Operating Characteristic (ROC) Curve\",\n",
    "    xaxis_title=\"False Positive Rate\",\n",
    "    yaxis_title=\"True Positive Rate\",\n",
    "    showlegend=True,\n",
    "    plot_bgcolor='rgba(0,0,0,0)',  # Transparent background\n",
    "    paper_bgcolor='rgba(0,0,0,0)',  # Transparent background\n",
    "    xaxis=dict(showgrid=False),\n",
    "    yaxis=dict(showgrid=False)\n",
    ")\n",
    "\n",
    "fig_roc.show()\n",
    "\n",
    "# Precision-Recall Curve\n",
    "precision, recall, _ = precision_recall_curve(y_test, y_pred_proba)\n",
    "\n",
    "# Plot Precision-Recall curve using Plotly\n",
    "fig_prc = go.Figure()\n",
    "\n",
    "fig_prc.add_trace(go.Scatter(\n",
    "    x=recall,\n",
    "    y=precision,\n",
    "    mode='lines',\n",
    "    name=\"Precision-Recall Curve\",\n",
    "    line=dict(color='#32CD32', width=3)  # Lime green color\n",
    "))\n",
    "\n",
    "fig_prc.update_layout(\n",
    "    title=\"Precision-Recall Curve\",\n",
    "    xaxis_title=\"Recall\",\n",
    "    yaxis_title=\"Precision\",\n",
    "    showlegend=True,\n",
    "    plot_bgcolor='rgba(0,0,0,0)',  # Transparent background\n",
    "    paper_bgcolor='rgba(0,0,0,0)',  # Transparent background\n",
    "    xaxis=dict(showgrid=False),\n",
    "    yaxis=dict(showgrid=False)\n",
    ")\n",
    "\n",
    "fig_prc.show()\n",
    "\n",
    "# Confusion Matrix Heatmap\n",
    "fig_cm = ff.create_annotated_heatmap(\n",
    "    z=conf_matrix,\n",
    "    x=[\"Not Graduated\", \"Graduated\"],\n",
    "    y=[\"Not Graduated\", \"Graduated\"],\n",
    "    colorscale='RdBu',  # Red-Blue color scale for better contrast\n",
    "    showscale=True\n",
    ")\n",
    "\n",
    "fig_cm.update_layout(\n",
    "    title=\"Confusion Matrix\",\n",
    "    xaxis_title=\"Predicted\",\n",
    "    yaxis_title=\"Actual\",\n",
    "    xaxis=dict(tickmode='array', tickvals=[0, 1], ticktext=[\"Not Graduated\", \"Graduated\"]),\n",
    "    yaxis=dict(tickmode='array', tickvals=[0, 1], ticktext=[\"Not Graduated\", \"Graduated\"]),\n",
    ")\n",
    "\n",
    "fig_cm.show()\n"
   ]
  }
 ],
 "metadata": {
  "colab": {
   "provenance": []
  },
  "kernelspec": {
   "display_name": ".venv",
   "language": "python",
   "name": "python3"
  },
  "language_info": {
   "codemirror_mode": {
    "name": "ipython",
    "version": 3
   },
   "file_extension": ".py",
   "mimetype": "text/x-python",
   "name": "python",
   "nbconvert_exporter": "python",
   "pygments_lexer": "ipython3",
   "version": "3.12.6"
  }
 },
 "nbformat": 4,
 "nbformat_minor": 0
}
