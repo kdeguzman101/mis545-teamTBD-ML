{
 "cells": [
  {
   "cell_type": "code",
   "execution_count": null,
   "metadata": {
    "id": "mHAPoJhsvWFD"
   },
   "outputs": [],
   "source": [
    "import pandas as pd\n",
    "import io\n",
    "import requests\n",
    "import numpy as np\n",
    "from sklearn.model_selection import train_test_split\n",
    "from sklearn.preprocessing import StandardScaler, LabelEncoder\n",
    "from sklearn.linear_model import LogisticRegression\n",
    "from sklearn.tree import DecisionTreeClassifier\n",
    "from sklearn.ensemble import RandomForestClassifier\n",
    "\n",
    "from sklearn.metrics import (\n",
    "    accuracy_score, confusion_matrix, classification_report,\n",
    "    roc_curve, roc_auc_score, precision_recall_curve\n",
    ")\n",
    "import matplotlib.pyplot as plt\n",
    "import seaborn as sns"
   ]
  },
  {
   "cell_type": "markdown",
   "metadata": {
    "id": "_6zm0XNQ_dxG"
   },
   "source": [
    "Specify file path and create target variable"
   ]
  },
  {
   "cell_type": "code",
   "execution_count": null,
   "metadata": {
    "colab": {
     "base_uri": "https://localhost:8080/"
    },
    "id": "777TvXBzDmkN",
    "outputId": "98dd7b2f-e06a-4c41-8906-89d06cf4260a"
   },
   "outputs": [],
   "source": [
    "# Use when in Google Colab\n",
    "# from google.colab import drive\n",
    "# drive.mount('/content/drive')\n",
    "# file_path = \"/content/drive/MyDrive/Datasets for Google Colab/student_success_enhanced.csv\"\n",
    "\n",
    "# Use when in Shared Google Colab\n",
    "'''\n",
    "file_id = '17eoOjbTriXdOnuUC2LSHDe-9lA-V_h1X'\n",
    "url = f'https://drive.google.com/uc?id={file_id}'\n",
    "\n",
    "# Send GET request to download the file\n",
    "response = requests.get(url)\n",
    "\n",
    "# Use io.BytesIO to read the content into pandas directly\n",
    "df = pd.read_csv(io.BytesIO(response.content))\n",
    "'''\n",
    "\n",
    "# Use when in local environment\n",
    "file_path = \"./student_success_enhanced.csv\"\n",
    "\n",
    "\n",
    "# Load dataset\n",
    "df = pd.read_csv(file_path)\n",
    "\n",
    "# Create target variable column, \"Graduated\" based on Graduation_Rate\n",
    "df['Graduated'] = (df['Graduation_Rate'] >= 0.6).astype(int)"
   ]
  },
  {
   "cell_type": "code",
   "execution_count": null,
   "metadata": {
    "id": "kSSCdwaE_dxH"
   },
   "outputs": [],
   "source": [
    "# Setup columns that need to be scaled or encoded\n",
    "numerical_columns = [\"GPA\", \"SAT_Score\", \"ACT_Score\", \"Family_Size\", \"Support_Center_Utilization\",\n",
    "                     \"Retention_Rate\", \"Graduation_Age\", \"Study_Hours_Per_Week\", \"Student_Loan_Amount\", \"Distance_From_Home\", \"Work_Hours_Per_Week\"]\n",
    "nominal_columns = [\"Marital_Status\", \"Life_Event\", \"Major\"]\n",
    "ordinal_columns = [\"Income_Level\", \"Institution_Type\", \"Campus_Engagement\", \"First_Gen_Student\", \"Enrollment_Status\"]"
   ]
  },
  {
   "cell_type": "markdown",
   "metadata": {
    "id": "zNQ64O9UeA44"
   },
   "source": [
    "Displaying the split between \"Graduated\" 1 and 0"
   ]
  },
  {
   "cell_type": "code",
   "execution_count": null,
   "metadata": {
    "colab": {
     "base_uri": "https://localhost:8080/",
     "height": 178
    },
    "id": "Pen3Eha1eAbP",
    "outputId": "150b2b2a-cd1e-4d02-e898-17e49960ac90"
   },
   "outputs": [],
   "source": [
    "df['Graduated'].value_counts()"
   ]
  },
  {
   "cell_type": "markdown",
   "metadata": {
    "id": "ghk4Q3l3YF1c"
   },
   "source": [
    "Display the dataset and information"
   ]
  },
  {
   "cell_type": "code",
   "execution_count": null,
   "metadata": {
    "colab": {
     "base_uri": "https://localhost:8080/",
     "height": 541
    },
    "id": "1cNJw5_vYEwE",
    "outputId": "49c77423-b55d-47fb-85b2-d2bd7bd3fb82"
   },
   "outputs": [],
   "source": [
    "# Show the first couple rows of the dataframe\n",
    "df.head(13)"
   ]
  },
  {
   "cell_type": "code",
   "execution_count": null,
   "metadata": {
    "colab": {
     "base_uri": "https://localhost:8080/"
    },
    "id": "0qeC05vTo6qY",
    "outputId": "cecc83ee-5964-43a9-8b66-9173f1e4084e"
   },
   "outputs": [],
   "source": [
    "# Display the unique values within a specific column\n",
    "df['Life_Event'].unique()\n",
    "# df['Income_Level'].value_counts()"
   ]
  },
  {
   "cell_type": "code",
   "execution_count": null,
   "metadata": {
    "colab": {
     "base_uri": "https://localhost:8080/",
     "height": 335
    },
    "id": "LFH2zTkBbruq",
    "outputId": "ed6b52df-4e94-4b15-81ac-e8f110c0075d"
   },
   "outputs": [],
   "source": [
    "# Describe the different values of a specific column\n",
    "df['Family_Size'].describe()"
   ]
  },
  {
   "cell_type": "code",
   "execution_count": null,
   "metadata": {
    "colab": {
     "base_uri": "https://localhost:8080/"
    },
    "id": "FOJlCRHC_dxJ",
    "outputId": "436e294d-39bf-4350-fa26-4a26b2c4f143"
   },
   "outputs": [],
   "source": [
    "# Replacing missing values in the Life_Event column with 'None'\n",
    "df['Life_Event'] = df['Life_Event'].fillna('None')\n",
    "# Display the unique values within a specific column\n",
    "df['Life_Event'].unique()"
   ]
  },
  {
   "cell_type": "code",
   "execution_count": null,
   "metadata": {
    "colab": {
     "base_uri": "https://localhost:8080/"
    },
    "id": "rb4kqbOO_dxJ",
    "outputId": "34f1e9d2-52cd-4ade-fc77-7242135795af"
   },
   "outputs": [],
   "source": [
    "# Prepare data\n",
    "X = df.drop(columns=[\"Student_ID\", \"Graduation_Rate\", \"Graduated\"])\n",
    "y = df[\"Graduated\"]\n",
    "\n",
    "# Train-test split\n",
    "X_train, X_test, y_train, y_test = train_test_split(X, y, test_size=0.33, random_state=42)\n",
    "print(f\"Number of training samples: {X_train.shape[0]}\")\n",
    "print(f\"Number of testing samples: {X_test.shape[0]}\")"
   ]
  },
  {
   "cell_type": "code",
   "execution_count": null,
   "metadata": {
    "id": "bANKBgs6Dpdv"
   },
   "outputs": [],
   "source": [
    "# One-hot encode categorical (nominal) variables\n",
    "X_train = pd.get_dummies(X_train, columns=nominal_columns, drop_first=True)\n",
    "\n",
    "# Apply the same encoding to the test set\n",
    "X_test = pd.get_dummies(X_test, columns=nominal_columns, drop_first=True)\n",
    "\n",
    "# Handle categorical (ordinal) columns\n",
    "le = LabelEncoder()\n",
    "for col in ordinal_columns:\n",
    "    X_train[col] = le.fit_transform(X_train[col])\n",
    "    X_test[col] = le.transform(X_test[col])"
   ]
  },
  {
   "cell_type": "code",
   "execution_count": null,
   "metadata": {
    "colab": {
     "base_uri": "https://localhost:8080/"
    },
    "id": "6GwSp-_z_dxL",
    "outputId": "eb35c6a8-ba44-45c2-ca8b-82e46fe157f6"
   },
   "outputs": [],
   "source": [
    "print(X_train.shape)\n",
    "print(X_test.shape)"
   ]
  },
  {
   "cell_type": "code",
   "execution_count": null,
   "metadata": {
    "colab": {
     "base_uri": "https://localhost:8080/",
     "height": 273
    },
    "id": "a51a44TRZKUt",
    "outputId": "713e30fa-bda6-47fb-8537-17ae1bf1cc70"
   },
   "outputs": [],
   "source": [
    "X_train.head()"
   ]
  },
  {
   "cell_type": "code",
   "execution_count": null,
   "metadata": {
    "colab": {
     "base_uri": "https://localhost:8080/"
    },
    "id": "MlF6duATyZYf",
    "outputId": "636460b1-a5a0-4e8c-9397-e54d8a579c71"
   },
   "outputs": [],
   "source": [
    "# Display the unique values within a specific column\n",
    "X_train['Life_Event_None'].unique()\n",
    "# df['Income_Level'].value_counts()"
   ]
  },
  {
   "cell_type": "markdown",
   "metadata": {
    "id": "A0Q7-uKR_dxL"
   },
   "source": [
    "Converting boolean values into 1s and 0s"
   ]
  },
  {
   "cell_type": "code",
   "execution_count": null,
   "metadata": {
    "id": "RFttODt-_dxL"
   },
   "outputs": [],
   "source": [
    "# Convert only boolean columns (True/False) to 1/0\n",
    "boolean_columns = X_train.select_dtypes(include=['bool']).columns\n",
    "X_train[boolean_columns] = X_train[boolean_columns].astype(int)\n",
    "X_test[boolean_columns] = X_test[boolean_columns].astype(int)"
   ]
  },
  {
   "cell_type": "markdown",
   "metadata": {
    "id": "lo3y770LnU1w"
   },
   "source": [
    "# LOGISTIC REGRESSION"
   ]
  },
  {
   "cell_type": "code",
   "execution_count": null,
   "metadata": {
    "id": "WYw2HtIHA-fv"
   },
   "outputs": [],
   "source": [
    "# Scale the features\n",
    "scaler = StandardScaler()\n",
    "X_train_scaled = scaler.fit_transform(X_train[numerical_columns])\n",
    "X_test_scaled = scaler.transform(X_test[numerical_columns])\n",
    "\n",
    "# Train logistic regression model\n",
    "model = LogisticRegression(max_iter=2000, solver='saga')\n",
    "model.fit(X_train_scaled, y_train)\n",
    "\n",
    "# Make predictions\n",
    "y_train_pred = model.predict(X_train_scaled)\n",
    "y_test_pred = model.predict(X_test_scaled)\n",
    "y_test_proba = model.predict_proba(X_test_scaled)[:, 1]"
   ]
  },
  {
   "cell_type": "code",
   "execution_count": null,
   "metadata": {
    "colab": {
     "base_uri": "https://localhost:8080/"
    },
    "id": "ZIbNqNMdDtwA",
    "outputId": "d4e747db-787a-4cb4-f5ea-eda650baf324"
   },
   "outputs": [],
   "source": [
    "# Evaluate model\n",
    "train_accuracy = accuracy_score(y_train, y_train_pred)\n",
    "test_accuracy = accuracy_score(y_test, y_test_pred)\n",
    "conf_matrix = confusion_matrix(y_test, y_test_pred)\n",
    "report = classification_report(y_test, y_test_pred)\n",
    "\n",
    "# Print results\n",
    "print(\"Training Accuracy:\", train_accuracy)\n",
    "print(\"Test Accuracy:\", test_accuracy)\n",
    "print(\"Confusion Matrix:\\n\", conf_matrix)\n",
    "print(\"Classification Report:\\n\", report)"
   ]
  },
  {
   "cell_type": "code",
   "execution_count": null,
   "metadata": {
    "colab": {
     "base_uri": "https://localhost:8080/"
    },
    "id": "XxAcddhHKyjI",
    "outputId": "697cd894-1799-4d67-92ce-697ef44a4d58"
   },
   "outputs": [],
   "source": [
    "print(f\"Predicted Class Distribution: {np.bincount(y_test_pred)}\")"
   ]
  },
  {
   "cell_type": "code",
   "execution_count": null,
   "metadata": {
    "colab": {
     "base_uri": "https://localhost:8080/",
     "height": 1000
    },
    "id": "CJqIsQTcJ5bA",
    "outputId": "1503ee3e-f377-4253-8240-e565c8530670"
   },
   "outputs": [],
   "source": [
    "# Visualization 1: Confusion Matrix Heatmap\n",
    "plt.figure(figsize=(6, 5))\n",
    "sns.heatmap(conf_matrix, annot=True, fmt='d', cmap='Blues', xticklabels=[\"Not Graduated\", \"Graduated\"], yticklabels=[\"Not Graduated\", \"Graduated\"])\n",
    "plt.title(\"Confusion Matrix\")\n",
    "plt.xlabel(\"Predicted\")\n",
    "plt.ylabel(\"Actual\")\n",
    "plt.show()\n",
    "\n",
    "# Visualization 2: ROC Curve\n",
    "fpr, tpr, thresholds = roc_curve(y_test, y_test_proba)\n",
    "roc_auc = roc_auc_score(y_test, y_test_proba)\n",
    "\n",
    "plt.figure(figsize=(6, 5))\n",
    "plt.plot(fpr, tpr, label=f\"ROC Curve (AUC = {roc_auc:.2f})\", color='blue')\n",
    "plt.plot([0, 1], [0, 1], 'k--', label=\"Random Guess\")\n",
    "plt.title(\"Receiver Operating Characteristic (ROC) Curve\")\n",
    "plt.xlabel(\"False Positive Rate\")\n",
    "plt.ylabel(\"True Positive Rate\")\n",
    "plt.legend(loc=\"lower right\")\n",
    "plt.show()\n",
    "\n",
    "# Visualization 3: Precision-Recall Curve (with zero_division parameter)\n",
    "precision, recall, thresholds = precision_recall_curve(y_test, y_test_proba)\n",
    "\n",
    "plt.figure(figsize=(6, 5))\n",
    "plt.plot(recall, precision, label=\"Precision-Recall Curve\", color='green')\n",
    "plt.title(\"Precision-Recall Curve\")\n",
    "plt.xlabel(\"Recall\")\n",
    "plt.ylabel(\"Precision\")\n",
    "plt.legend(loc=\"lower left\")\n",
    "plt.show()"
   ]
  },
  {
   "cell_type": "markdown",
   "metadata": {
    "id": "JcqSANkRnLWF"
   },
   "source": [
    "# DECISION FOREST\n"
   ]
  },
  {
   "cell_type": "code",
   "execution_count": null,
   "metadata": {
    "colab": {
     "base_uri": "https://localhost:8080/",
     "height": 80
    },
    "id": "396Qtmh1L-yI",
    "outputId": "6170382c-ae6e-4a16-e75c-21a983ae99dc"
   },
   "outputs": [],
   "source": [
    "model = DecisionTreeClassifier(random_state=42,max_depth=4)\n",
    "# When using Decision Trees, we do not want to scale the data.\n",
    "# model.fit(X_train_scaled, y_train)\n",
    "model.fit(X_train, y_train)"
   ]
  },
  {
   "cell_type": "code",
   "execution_count": null,
   "metadata": {
    "colab": {
     "base_uri": "https://localhost:8080/",
     "height": 1000
    },
    "id": "K44t8lhNM3mA",
    "outputId": "089b7b4b-5973-4fe9-fbe5-d48534f241c6"
   },
   "outputs": [],
   "source": [
    "from sklearn.tree import plot_tree\n",
    "\n",
    "# Plot the trained decision tree\n",
    "plt.figure(figsize=(40, 30))\n",
    "plot_tree(model, filled=True, feature_names=X.columns, class_names=[\"Not Graduated\", \"Graduated\"], rounded=True, fontsize=12)\n",
    "plt.title(\"Decision Tree Visualization\")\n",
    "plt.show()"
   ]
  },
  {
   "cell_type": "code",
   "execution_count": null,
   "metadata": {
    "colab": {
     "base_uri": "https://localhost:8080/"
    },
    "id": "9a1_1sYnMHyw",
    "outputId": "eb3fdfa7-4758-4d9f-8ead-3664bd120016"
   },
   "outputs": [],
   "source": [
    "# Make predictions\n",
    "y_train_pred = model.predict(X_train)\n",
    "y_test_pred = model.predict(X_test)\n",
    "y_test_proba = model.predict_proba(X_test)[:, 1]\n",
    "\n",
    "# Evaluate model\n",
    "train_accuracy = accuracy_score(y_train, y_train_pred)\n",
    "test_accuracy = accuracy_score(y_test, y_test_pred)\n",
    "conf_matrix = confusion_matrix(y_test, y_test_pred)\n",
    "report = classification_report(y_test, y_test_pred)\n",
    "\n",
    "print(\"Training Accuracy:\", train_accuracy)\n",
    "print(\"Test Accuracy:\", test_accuracy)\n",
    "print(\"Confusion Matrix:\\n\", conf_matrix)\n",
    "print(\"Classification Report:\\n\", report)\n",
    "print(f\"Predicted Class Distribution: {np.bincount(y_test_pred)}\")\n"
   ]
  },
  {
   "cell_type": "code",
   "execution_count": null,
   "metadata": {
    "colab": {
     "base_uri": "https://localhost:8080/",
     "height": 1000
    },
    "id": "PgCjRTiCMLcy",
    "outputId": "85e54880-a000-423e-90f7-e93f5596be75"
   },
   "outputs": [],
   "source": [
    "# Visualization 1: Confusion Matrix Heatmap\n",
    "plt.figure(figsize=(6, 5))\n",
    "sns.heatmap(conf_matrix, annot=True, fmt='d', cmap='Blues', xticklabels=[\"Not Graduated\", \"Graduated\"], yticklabels=[\"Not Graduated\", \"Graduated\"])\n",
    "plt.title(\"Confusion Matrix\")\n",
    "plt.xlabel(\"Predicted\")\n",
    "plt.ylabel(\"Actual\")\n",
    "plt.show()\n",
    "\n",
    "# Visualization 2: ROC Curve\n",
    "fpr, tpr, thresholds = roc_curve(y_test, y_test_proba)\n",
    "roc_auc = roc_auc_score(y_test, y_test_proba)\n",
    "\n",
    "plt.figure(figsize=(6, 5))\n",
    "plt.plot(fpr, tpr, label=f\"ROC Curve (AUC = {roc_auc:.2f})\", color='blue')\n",
    "plt.plot([0, 1], [0, 1], 'k--', label=\"Random Guess\")\n",
    "plt.title(\"Receiver Operating Characteristic (ROC) Curve\")\n",
    "plt.xlabel(\"False Positive Rate\")\n",
    "plt.ylabel(\"True Positive Rate\")\n",
    "plt.legend(loc=\"lower right\")\n",
    "plt.show()\n",
    "\n",
    "# Visualization 3: Precision-Recall Curve (with zero_division parameter)\n",
    "precision, recall, thresholds = precision_recall_curve(y_test, y_test_proba)\n",
    "\n",
    "plt.figure(figsize=(6, 5))\n",
    "plt.plot(recall, precision, label=\"Precision-Recall Curve\", color='green')\n",
    "plt.title(\"Precision-Recall Curve\")\n",
    "plt.xlabel(\"Recall\")\n",
    "plt.ylabel(\"Precision\")\n",
    "plt.legend(loc=\"lower left\")\n",
    "plt.show()"
   ]
  },
  {
   "cell_type": "markdown",
   "metadata": {
    "id": "pIypyEQsncQs"
   },
   "source": [
    "# RANDOM FOREST"
   ]
  },
  {
   "cell_type": "code",
   "execution_count": null,
   "metadata": {
    "id": "dkKsLWSCmP9I"
   },
   "outputs": [],
   "source": [
    "rf_model = RandomForestClassifier(random_state=42, n_estimators=100)\n",
    "# rf_model.fit(X_train_scaled, y_train)\n",
    "rf_model.fit(X_train, y_train)\n",
    "\n",
    "# Predictions\n",
    "y_pred = rf_model.predict(X_test)"
   ]
  },
  {
   "cell_type": "code",
   "execution_count": null,
   "metadata": {
    "colab": {
     "base_uri": "https://localhost:8080/"
    },
    "id": "KAr-z8Y0mSm9",
    "outputId": "51a9e120-b941-425f-c1be-19491d25e1ef"
   },
   "outputs": [],
   "source": [
    "accuracy = accuracy_score(y_test, y_pred)\n",
    "print(f\"Accuracy: {accuracy * 100:.2f}%\")\n",
    "conf_matrix = confusion_matrix(y_test, y_pred)\n",
    "\n",
    "# Classification Report\n",
    "print(\"Classification Report:\")\n",
    "print(classification_report(y_test, y_pred))"
   ]
  },
  {
   "cell_type": "code",
   "execution_count": null,
   "metadata": {
    "colab": {
     "base_uri": "https://localhost:8080/",
     "height": 487
    },
    "id": "ZQ8pcjt2maek",
    "outputId": "15790001-7602-4cab-b2c0-93ddb85c498e"
   },
   "outputs": [],
   "source": [
    "plt.figure(figsize=(6, 5))\n",
    "sns.heatmap(conf_matrix, annot=True, fmt='d', cmap='Blues', xticklabels=[\"Not Graduated\", \"Graduated\"], yticklabels=[\"Not Graduated\", \"Graduated\"])\n",
    "plt.title(\"Confusion Matrix - Random Forest\")\n",
    "plt.xlabel(\"Predicted\")\n",
    "plt.ylabel(\"Actual\")\n",
    "plt.show()"
   ]
  },
  {
   "cell_type": "code",
   "execution_count": null,
   "metadata": {
    "colab": {
     "base_uri": "https://localhost:8080/",
     "height": 1000
    },
    "id": "ZtYHyenmsd1G",
    "outputId": "339944a3-e7f6-46ac-a38e-aaff97b451fc"
   },
   "outputs": [],
   "source": [
    "from sklearn.ensemble import AdaBoostClassifier\n",
    "from sklearn.tree import DecisionTreeClassifier\n",
    "from sklearn.model_selection import train_test_split\n",
    "from sklearn.metrics import accuracy_score, confusion_matrix, classification_report, roc_curve, roc_auc_score, precision_recall_curve\n",
    "import plotly.graph_objects as go\n",
    "import plotly.figure_factory as ff\n",
    "import seaborn as sns\n",
    "import matplotlib.pyplot as plt\n",
    "import numpy as np\n",
    "\n",
    "# Load your dataset (assuming df is your DataFrame and you've already preprocessed it)\n",
    "# Assuming your target is 'Graduation_Rate' (converted to 0 or 1 for classification)\n",
    "\n",
    "'''\n",
    "# Prepare features and target\n",
    "X = df.drop(columns=['Student_ID', 'Graduation_Rate'])  # Dropping ID and target column\n",
    "y = df['Graduation_Rate'].apply(lambda x: 1 if x >= 0.5 else 0)  # Binary target (0 or 1)\n",
    "\n",
    "# Split the data into training and testing sets\n",
    "X_train, X_test, y_train, y_test = train_test_split(X, y, test_size=0.3, random_state=42)\n",
    "'''\n",
    "\n",
    "# Initialize the base model (Decision Tree as the weak learner for AdaBoost)\n",
    "base_model = DecisionTreeClassifier(max_depth=1)\n",
    "\n",
    "# Initialize AdaBoost with the base model\n",
    "ada_boost = AdaBoostClassifier(estimator=base_model, n_estimators=50, random_state=42)\n",
    "\n",
    "# Fit the AdaBoost model\n",
    "ada_boost.fit(X_train, y_train)\n",
    "\n",
    "# Predict on test data\n",
    "y_pred = ada_boost.predict(X_test)\n",
    "y_pred_proba = ada_boost.predict_proba(X_test)[:, 1]\n",
    "\n",
    "# Model Evaluation\n",
    "\n",
    "# Accuracy\n",
    "accuracy = accuracy_score(y_test, y_pred)\n",
    "print(f\"Accuracy: {accuracy:.4f}\")\n",
    "\n",
    "# Confusion Matrix\n",
    "conf_matrix = confusion_matrix(y_test, y_pred)\n",
    "print(f\"Confusion Matrix:\\n{conf_matrix}\")\n",
    "\n",
    "# Classification Report\n",
    "print(f\"Classification Report:\\n{classification_report(y_test, y_pred)}\")\n",
    "\n",
    "# ROC Curve\n",
    "fpr, tpr, _ = roc_curve(y_test, y_pred_proba)\n",
    "roc_auc = roc_auc_score(y_test, y_pred_proba)\n",
    "\n",
    "# Plot ROC curve using Plotly\n",
    "fig_roc = go.Figure()\n",
    "\n",
    "fig_roc.add_trace(go.Scatter(\n",
    "    x=fpr,\n",
    "    y=tpr,\n",
    "    mode='lines',\n",
    "    name=f'ROC Curve (AUC = {roc_auc:.2f})',\n",
    "    line=dict(color='#FF6347', width=3)  # Tomato red color\n",
    "))\n",
    "\n",
    "fig_roc.add_trace(go.Scatter(\n",
    "    x=[0, 1],\n",
    "    y=[0, 1],\n",
    "    mode='lines',\n",
    "    name=\"Random Guess\",\n",
    "    line=dict(color='#D3D3D3', dash='dash', width=2)  # Light gray for random guess\n",
    "))\n",
    "\n",
    "fig_roc.update_layout(\n",
    "    title=\"Receiver Operating Characteristic (ROC) Curve\",\n",
    "    xaxis_title=\"False Positive Rate\",\n",
    "    yaxis_title=\"True Positive Rate\",\n",
    "    showlegend=True,\n",
    "    plot_bgcolor='rgba(0,0,0,0)',  # Transparent background\n",
    "    paper_bgcolor='rgba(0,0,0,0)',  # Transparent background\n",
    "    xaxis=dict(showgrid=False),\n",
    "    yaxis=dict(showgrid=False)\n",
    ")\n",
    "\n",
    "fig_roc.show()\n",
    "\n",
    "# Precision-Recall Curve\n",
    "precision, recall, _ = precision_recall_curve(y_test, y_pred_proba)\n",
    "\n",
    "# Plot Precision-Recall curve using Plotly\n",
    "fig_prc = go.Figure()\n",
    "\n",
    "fig_prc.add_trace(go.Scatter(\n",
    "    x=recall,\n",
    "    y=precision,\n",
    "    mode='lines',\n",
    "    name=\"Precision-Recall Curve\",\n",
    "    line=dict(color='#32CD32', width=3)  # Lime green color\n",
    "))\n",
    "\n",
    "fig_prc.update_layout(\n",
    "    title=\"Precision-Recall Curve\",\n",
    "    xaxis_title=\"Recall\",\n",
    "    yaxis_title=\"Precision\",\n",
    "    showlegend=True,\n",
    "    plot_bgcolor='rgba(0,0,0,0)',  # Transparent background\n",
    "    paper_bgcolor='rgba(0,0,0,0)',  # Transparent background\n",
    "    xaxis=dict(showgrid=False),\n",
    "    yaxis=dict(showgrid=False)\n",
    ")\n",
    "\n",
    "fig_prc.show()\n",
    "\n",
    "# Confusion Matrix Heatmap\n",
    "fig_cm = ff.create_annotated_heatmap(\n",
    "    z=conf_matrix,\n",
    "    x=[\"Not Graduated\", \"Graduated\"],\n",
    "    y=[\"Not Graduated\", \"Graduated\"],\n",
    "    colorscale='RdBu',  # Red-Blue color scale for better contrast\n",
    "    showscale=True\n",
    ")\n",
    "\n",
    "fig_cm.update_layout(\n",
    "    title=\"Confusion Matrix\",\n",
    "    xaxis_title=\"Predicted\",\n",
    "    yaxis_title=\"Actual\",\n",
    "    xaxis=dict(tickmode='array', tickvals=[0, 1], ticktext=[\"Not Graduated\", \"Graduated\"]),\n",
    "    yaxis=dict(tickmode='array', tickvals=[0, 1], ticktext=[\"Not Graduated\", \"Graduated\"]),\n",
    ")\n",
    "\n",
    "fig_cm.show()\n"
   ]
  }
 ],
 "metadata": {
  "colab": {
   "provenance": []
  },
  "kernelspec": {
   "display_name": ".venv",
   "language": "python",
   "name": "python3"
  },
  "language_info": {
   "codemirror_mode": {
    "name": "ipython",
    "version": 3
   },
   "file_extension": ".py",
   "mimetype": "text/x-python",
   "name": "python",
   "nbconvert_exporter": "python",
   "pygments_lexer": "ipython3",
   "version": "3.12.6"
  }
 },
 "nbformat": 4,
 "nbformat_minor": 0
}
