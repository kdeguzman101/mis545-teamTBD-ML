{
 "cells": [
  {
   "cell_type": "markdown",
   "metadata": {},
   "source": [
    "# Machine Learning for Team TBD"
   ]
  },
  {
   "cell_type": "markdown",
   "metadata": {},
   "source": [
    "Import statements"
   ]
  },
  {
   "cell_type": "code",
   "execution_count": 8,
   "metadata": {},
   "outputs": [],
   "source": [
    "import pandas as pd\n",
    "import numpy as np\n",
    "from sklearn.model_selection import train_test_split\n",
    "from sklearn.preprocessing import StandardScaler"
   ]
  },
  {
   "cell_type": "markdown",
   "metadata": {},
   "source": [
    "Creating dataframe from csv"
   ]
  },
  {
   "cell_type": "code",
   "execution_count": null,
   "metadata": {},
   "outputs": [
    {
     "name": "stdout",
     "output_type": "stream",
     "text": [
      "<class 'pandas.core.frame.DataFrame'>\n",
      "RangeIndex: 10000 entries, 0 to 9999\n",
      "Data columns (total 21 columns):\n",
      " #   Column                      Non-Null Count  Dtype  \n",
      "---  ------                      --------------  -----  \n",
      " 0   Student_ID                  10000 non-null  int64  \n",
      " 1   GPA                         10000 non-null  float64\n",
      " 2   SAT_Score                   10000 non-null  int64  \n",
      " 3   ACT_Score                   10000 non-null  int64  \n",
      " 4   Family_Size                 10000 non-null  int64  \n",
      " 5   Income_Level                10000 non-null  object \n",
      " 6   Marital_Status              10000 non-null  object \n",
      " 7   Support_Center_Utilization  10000 non-null  float64\n",
      " 8   Retention_Rate              10000 non-null  float64\n",
      " 9   Graduation_Rate             10000 non-null  float64\n",
      " 10  Life_Event                  3978 non-null   object \n",
      " 11  Institution_Type            10000 non-null  object \n",
      " 12  Graduation_Age              10000 non-null  float64\n",
      " 13  Major                       10000 non-null  object \n",
      " 14  Study_Hours_Per_Week        10000 non-null  float64\n",
      " 15  Student_Loan_Amount         10000 non-null  float64\n",
      " 16  Campus_Engagement           10000 non-null  object \n",
      " 17  First_Gen_Student           10000 non-null  bool   \n",
      " 18  Enrollment_Status           10000 non-null  object \n",
      " 19  Distance_From_Home          10000 non-null  float64\n",
      " 20  Work_Hours_Per_Week         10000 non-null  float64\n",
      "dtypes: bool(1), float64(9), int64(4), object(7)\n",
      "memory usage: 1.5+ MB\n",
      "None\n",
      "(10000, 21)\n"
     ]
    }
   ],
   "source": [
    "# Load CSV into a Pandas DataFrame\n",
    "df = pd.read_csv('/home/neil/coding/python/mis545-teamTBD-ML/student_success_enhanced.csv')\n",
    "\n",
    "# Display information about the dataset (columns, non-null values, data types)\n",
    "# print(df.shape)\n",
    "print(df.info())\n",
    "# print('\\n')\n",
    "\n",
    "# Display the first few rows to understand the structure of the data\n",
    "# print(df.head())\n",
    "# print()\n",
    "\n",
    "# Optional: Check for missing values\n",
    "# print(df.isnull().sum())\n",
    "\n",
    "# Optional: Preprocessing steps (example below)\n",
    "# - Handle missing values\n",
    "# - Encode categorical variables\n",
    "# - Normalize or scale numerical features\n"
   ]
  }
 ],
 "metadata": {
  "kernelspec": {
   "display_name": ".venv",
   "language": "python",
   "name": "python3"
  },
  "language_info": {
   "codemirror_mode": {
    "name": "ipython",
    "version": 3
   },
   "file_extension": ".py",
   "mimetype": "text/x-python",
   "name": "python",
   "nbconvert_exporter": "python",
   "pygments_lexer": "ipython3",
   "version": "3.11.2"
  }
 },
 "nbformat": 4,
 "nbformat_minor": 2
}
