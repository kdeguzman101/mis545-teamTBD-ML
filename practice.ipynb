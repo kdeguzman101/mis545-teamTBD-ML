{
 "cells": [
  {
   "cell_type": "markdown",
   "metadata": {},
   "source": [
    "# Machine Learning for Team TBD"
   ]
  },
  {
   "cell_type": "markdown",
   "metadata": {},
   "source": [
    "Import statements"
   ]
  },
  {
   "cell_type": "code",
   "execution_count": 3,
   "metadata": {},
   "outputs": [],
   "source": [
    "import pandas as pd\n",
    "import numpy as np\n",
    "from sklearn.model_selection import train_test_split\n",
    "from sklearn.preprocessing import StandardScaler"
   ]
  },
  {
   "cell_type": "markdown",
   "metadata": {},
   "source": [
    "Creating dataframe from csv"
   ]
  },
  {
   "cell_type": "code",
   "execution_count": null,
   "metadata": {},
   "outputs": [
    {
     "name": "stdout",
     "output_type": "stream",
     "text": [
      "<class 'pandas.core.frame.DataFrame'>\n",
      "RangeIndex: 10000 entries, 0 to 9999\n",
      "Data columns (total 21 columns):\n",
      " #   Column                      Non-Null Count  Dtype  \n",
      "---  ------                      --------------  -----  \n",
      " 0   Student_ID                  10000 non-null  int64  \n",
      " 1   GPA                         10000 non-null  float64\n",
      " 2   SAT_Score                   10000 non-null  int64  \n",
      " 3   ACT_Score                   10000 non-null  int64  \n",
      " 4   Family_Size                 10000 non-null  int64  \n",
      " 5   Income_Level                10000 non-null  object \n",
      " 6   Marital_Status              10000 non-null  object \n",
      " 7   Support_Center_Utilization  10000 non-null  float64\n",
      " 8   Retention_Rate              10000 non-null  float64\n",
      " 9   Graduation_Rate             10000 non-null  float64\n",
      " 10  Life_Event                  3978 non-null   object \n",
      " 11  Institution_Type            10000 non-null  object \n",
      " 12  Graduation_Age              10000 non-null  float64\n",
      " 13  Major                       10000 non-null  object \n",
      " 14  Study_Hours_Per_Week        10000 non-null  float64\n",
      " 15  Student_Loan_Amount         10000 non-null  float64\n",
      " 16  Campus_Engagement           10000 non-null  object \n",
      " 17  First_Gen_Student           10000 non-null  bool   \n",
      " 18  Enrollment_Status           10000 non-null  object \n",
      " 19  Distance_From_Home          10000 non-null  float64\n",
      " 20  Work_Hours_Per_Week         10000 non-null  float64\n",
      "dtypes: bool(1), float64(9), int64(4), object(7)\n",
      "memory usage: 1.5+ MB\n"
     ]
    },
    {
     "ename": "TypeError",
     "evalue": "unsupported operand type(s) for +: 'NoneType' and 'str'",
     "output_type": "error",
     "traceback": [
      "\u001b[0;31m---------------------------------------------------------------------------\u001b[0m",
      "\u001b[0;31mTypeError\u001b[0m                                 Traceback (most recent call last)",
      "Cell \u001b[0;32mIn[5], line 5\u001b[0m\n\u001b[1;32m      2\u001b[0m df \u001b[38;5;241m=\u001b[39m pd\u001b[38;5;241m.\u001b[39mread_csv(\u001b[38;5;124m'\u001b[39m\u001b[38;5;124m/home/neil/coding/python/mis545-teamTBD-ML/student_success_enhanced.csv\u001b[39m\u001b[38;5;124m'\u001b[39m)\n\u001b[1;32m      4\u001b[0m \u001b[38;5;66;03m# Display information about the dataset (columns, non-null values, data types)\u001b[39;00m\n\u001b[0;32m----> 5\u001b[0m \u001b[38;5;28mprint\u001b[39m(\u001b[43mdf\u001b[49m\u001b[38;5;241;43m.\u001b[39;49m\u001b[43minfo\u001b[49m\u001b[43m(\u001b[49m\u001b[43m)\u001b[49m\u001b[43m \u001b[49m\u001b[38;5;241;43m+\u001b[39;49m\u001b[43m \u001b[49m\u001b[38;5;124;43m'\u001b[39;49m\u001b[38;5;130;43;01m\\n\u001b[39;49;00m\u001b[38;5;124;43m'\u001b[39;49m)\n\u001b[1;32m      7\u001b[0m \u001b[38;5;66;03m# Display the first few rows to understand the structure of the data\u001b[39;00m\n\u001b[1;32m      8\u001b[0m \u001b[38;5;28mprint\u001b[39m(df\u001b[38;5;241m.\u001b[39mhead())\n",
      "\u001b[0;31mTypeError\u001b[0m: unsupported operand type(s) for +: 'NoneType' and 'str'"
     ]
    }
   ],
   "source": [
    "# Load CSV into a Pandas DataFrame\n",
    "df = pd.read_csv('/home/neil/coding/python/mis545-teamTBD-ML/student_success_enhanced.csv')\n",
    "\n",
    "# Display information about the dataset (columns, non-null values, data types)\n",
    "print(df.info())\n",
    "\n",
    "# Display the first few rows to understand the structure of the data\n",
    "print(df.head())\n",
    "\n",
    "# Optional: Check for missing values\n",
    "print(df.isnull().sum())\n",
    "\n",
    "# Optional: Preprocessing steps (example below)\n",
    "# - Handle missing values\n",
    "# - Encode categorical variables\n",
    "# - Normalize or scale numerical features\n"
   ]
  }
 ],
 "metadata": {
  "kernelspec": {
   "display_name": ".venv",
   "language": "python",
   "name": "python3"
  },
  "language_info": {
   "codemirror_mode": {
    "name": "ipython",
    "version": 3
   },
   "file_extension": ".py",
   "mimetype": "text/x-python",
   "name": "python",
   "nbconvert_exporter": "python",
   "pygments_lexer": "ipython3",
   "version": "3.11.2"
  }
 },
 "nbformat": 4,
 "nbformat_minor": 2
}
