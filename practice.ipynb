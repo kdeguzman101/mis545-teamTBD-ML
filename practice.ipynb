{
 "cells": [
  {
   "cell_type": "markdown",
   "metadata": {},
   "source": [
    "# Machine Learning for Team TBD"
   ]
  },
  {
   "cell_type": "markdown",
   "metadata": {},
   "source": [
    "Import statements"
   ]
  },
  {
   "cell_type": "code",
   "execution_count": null,
   "metadata": {},
   "outputs": [],
   "source": [
    "import pandas as pd\n",
    "import numpy as np\n",
    "from sklearn.model_selection import train_test_split\n",
    "\n"
   ]
  },
  {
   "cell_type": "markdown",
   "metadata": {},
   "source": [
    "Creating dataframe from csv"
   ]
  },
  {
   "cell_type": "code",
   "execution_count": null,
   "metadata": {},
   "outputs": [],
   "source": [
    "# Load CSV into a Pandas DataFrame\n",
    "df = pd.read_csv('/home/neil/coding/python/mis545-teamTBD-ML/student_success_enhanced.csv')\n",
    "\n",
    "# Display information about the dataset (columns, non-null values, data types)\n",
    "print(df.info())\n",
    "\n",
    "# Display the first few rows to understand the structure of the data\n",
    "print(df.head())\n",
    "\n",
    "# Optional: Check for missing values\n",
    "print(df.isnull().sum())\n",
    "\n",
    "# Optional: Preprocessing steps (example below)\n",
    "# - Handle missing values\n",
    "# - Encode categorical variables\n",
    "# - Normalize or scale numerical features\n"
   ]
  }
 ],
 "metadata": {
  "kernelspec": {
   "display_name": ".venv",
   "language": "python",
   "name": "python3"
  },
  "language_info": {
   "name": "python",
   "version": "3.11.2"
  }
 },
 "nbformat": 4,
 "nbformat_minor": 2
}
